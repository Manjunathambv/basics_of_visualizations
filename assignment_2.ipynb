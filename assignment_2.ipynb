{
 "cells": [
  {
   "cell_type": "code",
   "execution_count": 1,
   "id": "fb9239e0",
   "metadata": {},
   "outputs": [],
   "source": [
    "import pandas as pd\n",
    "import numpy as np\n",
    "from matplotlib import pyplot as plt\n",
    "import csv"
   ]
  },
  {
   "cell_type": "code",
   "execution_count": 2,
   "id": "ea83efef",
   "metadata": {},
   "outputs": [],
   "source": [
    "df_data = pd.read_csv(\"./amazon_jobs_dataset.csv\", index_col= 0)\n",
    "with open(\"./amazon_jobs_dataset.csv\", \"r\", encoding=\"utf8\") as file_object:\n",
    "    csv_data = csv.DictReader(file_object, delimiter = \",\", skipinitialspace = True)\n",
    "    data = list(csv_data)"
   ]
  },
  {
   "cell_type": "code",
   "execution_count": 4,
   "id": "72ef42fa",
   "metadata": {},
   "outputs": [
    {
     "data": {
      "image/png": "[encoded data removed]",
      "text/plain": [
       "<Figure size 432x288 with 1 Axes>"
      ]
     },
     "metadata": {
      "needs_background": "light"
     },
     "output_type": "display_data"
    },
    {
     "name": "stdout",
     "output_type": "stream",
     "text": [
      "2011 2\n",
      "2012 7\n",
      "2013 3\n",
      "2014 5\n",
      "2015 29\n",
      "2016 123\n",
      "2017 1614\n",
      "2018 1710\n"
     ]
    }
   ],
   "source": [
    "\"\"\"\n",
    "Problem Statement :\n",
    "Plot the line graph between no. of Job postings with respect to year.\n",
    "Print the year and the number of job posting as integer value.\n",
    "Note: Year should be in ascending order.\n",
    "Output Format :\n",
    "year1   job_posting1\n",
    "year2   job_posting2\n",
    ". . . \n",
    ". . .\n",
    ". . .\n",
    "\"\"\"\n",
    "\n",
    "job_data = dict()\n",
    "for row in  data:\n",
    "    year = (row[\"Posting_date\"].split(\",\")[-1].strip())\n",
    "    \n",
    "    if year in job_data:\n",
    "        job_data[year] += 1\n",
    "    else:\n",
    "        job_data[year] = 1\n",
    "    \n",
    "\n",
    "sorted_data = sorted(job_data.items(), key = lambda x:x[0])\n",
    "sorted_data = dict(sorted_data)\n",
    "plt.plot(list(sorted_data.keys()), list(sorted_data.values()))\n",
    "plt.show()\n",
    "\n",
    "for key, val in sorted_data.items():\n",
    "    print(key, val)"
   ]
  },
  {
   "cell_type": "code",
   "execution_count": 10,
   "id": "63eba278",
   "metadata": {},
   "outputs": [
    {
     "data": {
      "image/png": "[encoded data removed]",
      "text/plain": [
       "<Figure size 432x288 with 1 Axes>"
      ]
     },
     "metadata": {
      "needs_background": "light"
     },
     "output_type": "display_data"
    },
    {
     "name": "stdout",
     "output_type": "stream",
     "text": [
      "April 58\n",
      "August 153\n",
      "December 393\n",
      "February 869\n",
      "January 961\n",
      "July 95\n",
      "June 99\n",
      "March 78\n",
      "May 108\n",
      "November 271\n",
      "October 243\n",
      "September 165\n"
     ]
    }
   ],
   "source": [
    "\"\"\"\n",
    "Problem Statement :\n",
    "Plot the Bar graph between Month vs Job Openings.\n",
    "Print the month name and the number of job posting as integer value.\n",
    "Order of months doesn't matter.\n",
    "Output Format :\n",
    "month_name1 job_posting1\n",
    "month_name2 job_posting2\n",
    ". . . \n",
    ". . .\n",
    ". . .\n",
    "\"\"\"\n",
    "\n",
    "job_data = dict()\n",
    "for row in  data:\n",
    "    month = (row[\"Posting_date\"].split(\" \")[0].strip())\n",
    "\n",
    "    \n",
    "    if month in job_data:\n",
    "        job_data[month] += 1\n",
    "    else:\n",
    "        job_data[month] = 1\n",
    "    \n",
    "\n",
    "sorted_data = sorted(job_data.items(), key = lambda x:x[0])\n",
    "sorted_data = dict(sorted_data)\n",
    "plt.bar(list(sorted_data.keys()), list(sorted_data.values()))\n",
    "plt.xticks(rotation = 45)\n",
    "plt.show()\n",
    "\n",
    "for key, val in sorted_data.items():\n",
    "    print(key, val)"
   ]
  },
  {
   "cell_type": "code",
   "execution_count": 14,
   "id": "c1adbc7a",
   "metadata": {},
   "outputs": [
    {
     "data": {
      "text/plain": [
       "{'': '0',\n",
       " 'Title': 'Software Development Manager',\n",
       " 'location': 'US, WA, Seattle ',\n",
       " 'Posting_date': 'March  1, 2018',\n",
       " 'DESCRIPTION': 'You are an experienced hands-on manager with a background in developing and delivering software that simplifies solutions for a broad set of related problems. You have a strong technical ability, great communication skills, and know how to inspire your team to achieve outstanding results in a fast paced environment. You have a track record of building and leading strong teams of talented engineers and you enjoy working with smart people. In short - you are a skilled leader capable of getting great things done for your customers. If it sounds like you - then read on!As one of the largest companies in the cloud computing space across the world, Amazon Web Services (AWS) offers dozens of services and processes billions of usage records. Over the past 10 years, Amazon has become known across the globe as the most trusted company on the internet.The systems we build interpret and process a very high volume stream of events; often bundled with low-latency/real-time analysis to enable security and fraud detection.AWS Bill Generation team manages the computation engine responsible for generating charges to the customers. Every time any AWS service meters a usage by a customer, a record makes its way to the our computation engine. At the simplest level, the bill computation engine generates bill line items corresponding to usage. Every day the bill computation engine processes hundreds of millions of records. The computation engine is architected to enable us to scale to this computational load and grow with the rapidly growing AWS business.There are numerous highly varied scenarios that the bill computation engine handles: the common most one is that of tiering, i.e. charging customers at different rates based on usage. These tiers may be computed across multiple dimensions: across geographical regions, across accounts, or across services. One of the key goals of the bill computation engine is to build a highly scalable, general purpose multi-dimensional counter mechanism that enables us to support a very flexible set of pricing models. Another key goal is to make the bill computation engine \"declarative\". We want to make it super easy for sellers of cloud services to create complex pricing plans with minimal or no code changes whatsoever.Key Responsibilities:· Adopt overall AWS plans for AWS Commerce Platform and define your own team\\'s future direction.· · Manage projects that deliver on commitments to our customers.· · Manage day-to-day activities of engineering team using Agile/Scrum methodology.· · Manage team\\'s resources: hire, mentor, and grow the engineering team.· · Work closely with engineers to architect and develop the best technical solutions. Be a hands-on technical leader.· · Report on status of development, quality, operations, and system performance to management.',\n",
       " 'BASIC QUALIFICATIONS': \"· Proven track record of hiring and managing high performing engineering teams· Breadth and depth of experience building and managing software systems and teams· · Excellent written and verbal communication skills with the ability to present complex technical information in a clear and concise manner to executives and non-technical leaders· · Willingness to roll up your sleeves and do what's necessary to drive your projects to completion· · 6+ years of experience in Software development and 4+ years as a Development Manager· · Strong technical credentials, with expertise in OOP, Java or C++· · Experience with Linux/Unix systems· · Experience with SQL and No SQL data stores· · Bachelor's Degree in Computer Science or related degree\",\n",
       " 'PREFERRED QUALIFICATIONS': '· Experience building extremely high volume and highly scalable web services· · Eperience building highly available systems and operating 24x7 services· · Experience with distributed systems, consistent hashing, distributed locking, replication, and load balancing· · Master’s degree or PhD in Computer Science· · Working knowledge of Hadoop, MapReduce, or other Big Data processing platforms· · Working knowledge of Kafka, Storm, Spark Streaming, Kinesis, or other stream processing platforms'}"
      ]
     },
     "execution_count": 14,
     "metadata": {},
     "output_type": "execute_result"
    }
   ],
   "source": [
    "data[0]"
   ]
  },
  {
   "cell_type": "code",
   "execution_count": 51,
   "id": "245563ec",
   "metadata": {},
   "outputs": [
    {
     "data": {
      "image/png": "[encoded data removed]",
      "text/plain": [
       "<Figure size 432x288 with 1 Axes>"
      ]
     },
     "metadata": {},
     "output_type": "display_data"
    },
    {
     "name": "stdout",
     "output_type": "stream",
     "text": [
      "Bangalore 46.81\n",
      "Hyderabad 25.53\n",
      "Chennai 23.40\n",
      "Gurgaon 3.55\n",
      "Pune 0.71\n"
     ]
    }
   ],
   "source": [
    "\"\"\"\n",
    "Problem Statement :\n",
    "Plot the Pie chart between Indian cities vs No. of job openings.\n",
    "Print the Indian cities and %age of Job distribution in India up to 2 decimal places.\n",
    "Note: %age of Job distribution should be in descending order.\n",
    "Output Format :\n",
    "city1 percentage1\n",
    "city2 percentage2\n",
    ". . . \n",
    ". . .\n",
    ". . .\n",
    "\"\"\"\n",
    "\n",
    "city_jon = dict()\n",
    "for row in data:\n",
    "    country = (row[\"location\"].split(\",\")[0].strip())\n",
    "    city = (row[\"location\"].split(\",\")[-1].strip())\n",
    "    \n",
    "    if \"IN\" in country:\n",
    "        if city not in city_jon:\n",
    "            city_jon[city] = 1\n",
    "        else:\n",
    "            city_jon[city] += 1\n",
    "            \n",
    "sorted_data = sorted(city_jon.items(), key = lambda x:x[1], reverse = True)\n",
    "sorted_data = dict(sorted_data)\n",
    "plt.pie(list(sorted_data.values()), labels= list(sorted_data.keys()), autopct=\"%.2f%%\")\n",
    "plt.axis(\"equal\")\n",
    "plt.show()\n",
    "\n",
    "for key, val in sorted_data.items():\n",
    "    print(key, \"{:.2f}\".format(val/sum(sorted_data.values())* 100))"
   ]
  },
  {
   "cell_type": "code",
   "execution_count": 55,
   "id": "bc3fb274",
   "metadata": {},
   "outputs": [
    {
     "data": {
      "image/png": "[encoded data removed]",
      "text/plain": [
       "<Figure size 432x288 with 1 Axes>"
      ]
     },
     "metadata": {
      "needs_background": "light"
     },
     "output_type": "display_data"
    },
    {
     "name": "stdout",
     "output_type": "stream",
     "text": [
      "2012 6\n",
      "2013 2\n",
      "2014 4\n",
      "2015 25\n",
      "2016 95\n",
      "2017 1093\n",
      "2018 1210\n"
     ]
    }
   ],
   "source": [
    "\"\"\"\n",
    "Problem Statement :\n",
    "Plot the scatter graph between year vs No. of jobs opening related to Java.\n",
    "Print the year and number of Jobs opening in Java Profile.\n",
    "Note: Use the Keyword 'Java' or 'java' in Basic Qualification feature for finding the job opening related to Java Profile. Print the year in ascending order.\n",
    "Output Format :\n",
    "year1 JobOpening1\n",
    "year2 JobOpening2\n",
    ". . . \n",
    ". . .\n",
    ". . .\n",
    "\"\"\"\n",
    "\n",
    "d = {}\n",
    "for row in data:\n",
    "    qualification = row['BASIC QUALIFICATIONS']\n",
    "    if 'Java' in qualification or \"java\" in qualification:\n",
    "        key = row['Posting_date'].split()[2]\n",
    "        if key in d:\n",
    "            d[key] += 1\n",
    "        else:\n",
    "            d[key] = 1\n",
    "sorted_data = sorted(d.items(), key = lambda x:x[0])\n",
    "sorted_data = dict(sorted_data)\n",
    "plt.plot(list(sorted_data.keys()), list(sorted_data.values()))\n",
    "plt.show()\n",
    "\n",
    "for key, val in sorted_data.items():\n",
    "    print(key, val)"
   ]
  },
  {
   "cell_type": "code",
   "execution_count": null,
   "id": "ce7c5b81",
   "metadata": {},
   "outputs": [],
   "source": []
  }
 ],
 "metadata": {
  "kernelspec": {
   "display_name": "Python 3",
   "language": "python",
   "name": "python3"
  },
  "language_info": {
   "codemirror_mode": {
    "name": "ipython",
    "version": 3
   },
   "file_extension": ".py",
   "mimetype": "text/x-python",
   "name": "python",
   "nbconvert_exporter": "python",
   "pygments_lexer": "ipython3",
   "version": "3.8.8"
  }
 },
 "nbformat": 4,
 "nbformat_minor": 5
}
